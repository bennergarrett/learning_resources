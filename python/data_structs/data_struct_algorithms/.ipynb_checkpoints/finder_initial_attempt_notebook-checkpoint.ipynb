{
 "cells": [
  {
   "cell_type": "code",
   "execution_count": 21,
   "metadata": {},
   "outputs": [],
   "source": [
    "def finder(arr1,arr2):\n",
    "    collector = {}\n",
    "    \n",
    "    \n",
    "    ##edge case check\n",
    "    ##\n",
    "    \n",
    "    \n",
    "    for num in arr1:\n",
    "        if num in collector:\n",
    "            collector[num] += 1\n",
    "        if num not in collector:\n",
    "            collector[num] = 1\n",
    "    \n",
    "    for num in arr2:\n",
    "        if num in collector:\n",
    "            collector[num] -= 1\n",
    "        if num not in collector:\n",
    "            collector[num] = 1\n",
    "    \n",
    "    #return collector\n",
    "        \n",
    "    for k in collector:\n",
    "        if collector[k] != 0:\n",
    "        \n",
    "            return k\n",
    "    return \"all numbers present\"\n",
    "        "
   ]
  },
  {
   "cell_type": "code",
   "execution_count": 23,
   "metadata": {},
   "outputs": [
    {
     "data": {
      "text/plain": [
       "5"
      ]
     },
     "execution_count": 23,
     "metadata": {},
     "output_type": "execute_result"
    }
   ],
   "source": [
    "finder([1,2,3,4,5,6,7],[3,7,2,1,4,6])"
   ]
  },
  {
   "cell_type": "code",
   "execution_count": 25,
   "metadata": {},
   "outputs": [],
   "source": [
    "##Finds missing number of consecutive numbers\n",
    "##\n",
    "def finder2(arr1,arr2):\n",
    "    ##start counter at 0\n",
    "    ##\n",
    "    num = 0\n",
    "    \n",
    "    ##add up numbers in array\n",
    "    ##\n",
    "    for n in arr1:\n",
    "        num += n\n",
    "        \n",
    "    ##subtract numbers in array\n",
    "    ##\n",
    "    for n in arr2:\n",
    "        num -= n\n",
    "        \n",
    "    ##Leftover amount is the missing number\n",
    "    ##\n",
    "    return num\n",
    "    "
   ]
  },
  {
   "cell_type": "code",
   "execution_count": 26,
   "metadata": {},
   "outputs": [
    {
     "data": {
      "text/plain": [
       "5"
      ]
     },
     "execution_count": 26,
     "metadata": {},
     "output_type": "execute_result"
    }
   ],
   "source": [
    "finder([1,2,3,4,5,6,7],[3,7,2,1,4,6])"
   ]
  }
 ],
 "metadata": {
  "kernelspec": {
   "display_name": "Python 3",
   "language": "python",
   "name": "python3"
  },
  "language_info": {
   "codemirror_mode": {
    "name": "ipython",
    "version": 3
   },
   "file_extension": ".py",
   "mimetype": "text/x-python",
   "name": "python",
   "nbconvert_exporter": "python",
   "pygments_lexer": "ipython3",
   "version": "3.7.7"
  }
 },
 "nbformat": 4,
 "nbformat_minor": 4
}
