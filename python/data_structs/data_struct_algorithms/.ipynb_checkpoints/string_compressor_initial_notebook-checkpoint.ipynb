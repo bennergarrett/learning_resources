{
 "cells": [
  {
   "cell_type": "code",
   "execution_count": 45,
   "metadata": {},
   "outputs": [],
   "source": [
    "def compress(s):\n",
    "    \n",
    "    ##collects letter and count of letter\n",
    "    ##\n",
    "    collector = []\n",
    "    ##used to count letter\n",
    "    ##\n",
    "    count = 1\n",
    "    \n",
    "    ##length of string\n",
    "    ##\n",
    "    length = len(s)\n",
    "    \n",
    "    ##store letter in index\n",
    "    ##\n",
    "    letter =\"\"\n",
    "    \n",
    "    ##starter iterator\n",
    "    ##\n",
    "    i = 0\n",
    "    \n",
    "    ##since comparing letter and letter after\n",
    "    ##start at length - 1\n",
    "    while i < length-1:\n",
    "        ##store what letter is being used\n",
    "        ##\n",
    "        letter = s[i]\n",
    "        collector.append(letter)\n",
    "        \n",
    "        ##while letter matches next\n",
    "        ##\n",
    "        while i < (length-1) and s[i] == s[i+1]:\n",
    "            count += 1\n",
    "            i +=1\n",
    "\n",
    "        collector.append(count)\n",
    "        count =1\n",
    "    \n",
    "        i+= 1\n",
    "    return \"\".join(map(str,collector))"
   ]
  },
  {
   "cell_type": "code",
   "execution_count": 47,
   "metadata": {},
   "outputs": [
    {
     "data": {
      "text/plain": [
       "'A4B3'"
      ]
     },
     "execution_count": 47,
     "metadata": {},
     "output_type": "execute_result"
    }
   ],
   "source": [
    "compress('AAAAABBBBC')"
   ]
  }
 ],
 "metadata": {
  "kernelspec": {
   "display_name": "Python 3",
   "language": "python",
   "name": "python3"
  },
  "language_info": {
   "codemirror_mode": {
    "name": "ipython",
    "version": 3
   },
   "file_extension": ".py",
   "mimetype": "text/x-python",
   "name": "python",
   "nbconvert_exporter": "python",
   "pygments_lexer": "ipython3",
   "version": "3.7.7"
  }
 },
 "nbformat": 4,
 "nbformat_minor": 4
}
