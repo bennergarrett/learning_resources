{
 "cells": [
  {
   "cell_type": "code",
   "execution_count": 28,
   "metadata": {},
   "outputs": [],
   "source": [
    "def pair_sum(arr, k):\n",
    "    \n",
    "    ##edge case check\n",
    "    ##\n",
    "    if len(arr) < 2:\n",
    "        return\n",
    "    \n",
    "    ##sets for tracking unique solutions\n",
    "    ##\n",
    "    \n",
    "    ##numbers we've seen\n",
    "    ##\n",
    "    seen = set()\n",
    "    \n",
    "    ##output\n",
    "    ##\n",
    "    output = set()\n",
    "    \n",
    "    for num in arr:\n",
    "        target = k-num\n",
    "        \n",
    "        \n",
    "        ##if number hasn't been through loop already (check for doubles)\n",
    "        ##\n",
    "        if target not in seen:\n",
    "            seen.add(num)\n",
    "            \n",
    "        ##if other pair already in seen() is in array, must output to 4 as a pair and will be placed\n",
    "        ##into output\n",
    "        ##\n",
    "        else:\n",
    "            output.add( (min(num, target), max(num, target)) )\n",
    "            \n",
    "    ##returns number of unique answers\n",
    "    ##\n",
    "    #return len(output)\n",
    "    \n",
    "    ## puts tuple output into list format converts them to string using map function\n",
    "    ## and joins them into new lines\n",
    "    ##\n",
    "    print('\\n'.join(map(str,list(output)) ))\n",
    "    "
   ]
  },
  {
   "cell_type": "code",
   "execution_count": 31,
   "metadata": {},
   "outputs": [
    {
     "name": "stdout",
     "output_type": "stream",
     "text": [
      "(2, 3)\n"
     ]
    }
   ],
   "source": [
    "pair_sum([1, 3, 2, 2], 5)"
   ]
  },
  {
   "cell_type": "code",
   "execution_count": 25,
   "metadata": {},
   "outputs": [
    {
     "data": {
      "text/plain": [
       "1"
      ]
     },
     "execution_count": 25,
     "metadata": {},
     "output_type": "execute_result"
    }
   ],
   "source": [
    "min(1, 3)"
   ]
  },
  {
   "cell_type": "code",
   "execution_count": 27,
   "metadata": {},
   "outputs": [
    {
     "data": {
      "text/plain": [
       "3"
      ]
     },
     "execution_count": 27,
     "metadata": {},
     "output_type": "execute_result"
    }
   ],
   "source": [
    "max(1, 3)"
   ]
  }
 ],
 "metadata": {
  "kernelspec": {
   "display_name": "Python 3",
   "language": "python",
   "name": "python3"
  },
  "language_info": {
   "codemirror_mode": {
    "name": "ipython",
    "version": 3
   },
   "file_extension": ".py",
   "mimetype": "text/x-python",
   "name": "python",
   "nbconvert_exporter": "python",
   "pygments_lexer": "ipython3",
   "version": "3.7.7"
  }
 },
 "nbformat": 4,
 "nbformat_minor": 4
}
