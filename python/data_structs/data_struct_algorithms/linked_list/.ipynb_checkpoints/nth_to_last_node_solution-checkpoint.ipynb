{
 "cells": [
  {
   "cell_type": "code",
   "execution_count": 1,
   "metadata": {},
   "outputs": [],
   "source": [
    "class Node:\n",
    "\n",
    "    def __init__(self, value):\n",
    "        self.value = value\n",
    "        self.nextnode  = None"
   ]
  },
  {
   "cell_type": "code",
   "execution_count": 5,
   "metadata": {},
   "outputs": [],
   "source": [
    "def nth_to_last_node(n, head):\n",
    "    left_pointer = head\n",
    "    right_pointer = head \n",
    "    \n",
    "    ##create block of nth spaces wide to go through linked list\n",
    "    ##\n",
    "    for i in range(n-1):\n",
    "        if not right_pointer.nextnode:\n",
    "            raise LookupError('Error n is larger than the linked list')\n",
    "        \n",
    "        right_pointer = right_pointer.nextnode\n",
    "        \n",
    "    ##while not empty\n",
    "    ##\n",
    "    while right_pointer.nextnode:\n",
    "        left_pointer = left_pointer.nextnode\n",
    "        right_pointer = right_pointer.nextnode\n",
    "        \n",
    "    return left_pointer\n",
    "    \n"
   ]
  },
  {
   "cell_type": "code",
   "execution_count": 6,
   "metadata": {},
   "outputs": [],
   "source": [
    "a = Node(1)\n",
    "b = Node(2)\n",
    "c = Node(3)\n",
    "d = Node(4)\n",
    "e = Node(5)\n",
    "\n",
    "a.nextnode = b\n",
    "b.nextnode = c\n",
    "c.nextnode = d\n",
    "d.nextnode = e\n",
    "\n",
    "# This would return the node d with a value of 4, because its the 2nd to last node.\n",
    "target_node = nth_to_last_node(2, a)"
   ]
  },
  {
   "cell_type": "code",
   "execution_count": 8,
   "metadata": {},
   "outputs": [
    {
     "data": {
      "text/plain": [
       "4"
      ]
     },
     "execution_count": 8,
     "metadata": {},
     "output_type": "execute_result"
    }
   ],
   "source": [
    "target_node.value"
   ]
  },
  {
   "cell_type": "code",
   "execution_count": null,
   "metadata": {},
   "outputs": [],
   "source": [
    "class single_linked_list(Object):\n",
    "    \n",
    "    def __init__(self, value):\n",
    "        self.value = value\n",
    "        self.nextnode = None"
   ]
  },
  {
   "cell_type": "code",
   "execution_count": null,
   "metadata": {},
   "outputs": [],
   "source": [
    "class double_linked_list(Object):\n",
    "    \n",
    "    def __init__(self, value):\n",
    "        self.value = value\n",
    "        self.nextnode = None\n",
    "        self.prevnode = None\n",
    "    \n",
    "    "
   ]
  }
 ],
 "metadata": {
  "kernelspec": {
   "display_name": "Python 3",
   "language": "python",
   "name": "python3"
  },
  "language_info": {
   "codemirror_mode": {
    "name": "ipython",
    "version": 3
   },
   "file_extension": ".py",
   "mimetype": "text/x-python",
   "name": "python",
   "nbconvert_exporter": "python",
   "pygments_lexer": "ipython3",
   "version": "3.7.7"
  }
 },
 "nbformat": 4,
 "nbformat_minor": 4
}
