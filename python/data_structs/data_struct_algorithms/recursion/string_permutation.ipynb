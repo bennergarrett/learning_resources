{
 "cells": [
  {
   "cell_type": "code",
   "execution_count": 14,
   "metadata": {},
   "outputs": [],
   "source": [
    "def permute(s, combinations = None):\n",
    "    \n",
    "    if combinations = None:\n",
    "        cominations = []\n",
    "        \n",
    "    length = len(s)\n",
    "    \n",
    "    ##number of permutations\n",
    "    ##\n",
    "    combo = fact(length)/fact(length-2)\n",
    "    \n",
    "    ##base case\n",
    "    ##\n",
    "    if s = combinations[0]:\n",
    "        return\n",
    "    \n",
    "    else:\n",
    "        s = \n"
   ]
  },
  {
   "cell_type": "markdown",
   "metadata": {},
   "source": [
    "P(n,r)=n!/(n−r)!"
   ]
  },
  {
   "cell_type": "code",
   "execution_count": 2,
   "metadata": {},
   "outputs": [],
   "source": [
    "def fact(num):\n",
    "    ##base point\n",
    "    ##\n",
    "    if num == 1:\n",
    "        return 1\n",
    "    \n",
    "    else:\n",
    "        return num *fact(num-1)"
   ]
  },
  {
   "cell_type": "code",
   "execution_count": 15,
   "metadata": {},
   "outputs": [],
   "source": [
    "permute('abc')"
   ]
  },
  {
   "cell_type": "code",
   "execution_count": null,
   "metadata": {},
   "outputs": [],
   "source": []
  },
  {
   "cell_type": "code",
   "execution_count": 25,
   "metadata": {},
   "outputs": [],
   "source": [
    "def permute_sol(s):\n",
    "\n",
    "    out = []\n",
    "    \n",
    "    ##base case\n",
    "    ##\n",
    "    if len(s) == 1:\n",
    "        out = [s]\n",
    "        \n",
    "    else:\n",
    "        \n",
    "        ##for every letter in the string\n",
    "        ##\n",
    "        for i,let in enumerate(s):\n",
    "            \n",
    "            ##for every permuation from the previous steps\n",
    "            ##\n",
    "            print('element is:', let)\n",
    "            for perm in permute_sol( s[:i] + s[i+1:] ):\n",
    "                \n",
    "                print('perm is', perm)\n",
    "                \n",
    "                out += [let+perm]\n",
    "                print('out is', out)\n",
    "                \n",
    "    return out\n",
    "    \n",
    " \n",
    "    "
   ]
  },
  {
   "cell_type": "code",
   "execution_count": 65,
   "metadata": {},
   "outputs": [
    {
     "name": "stdout",
     "output_type": "stream",
     "text": [
      "element is: a\n",
      "element is: b\n",
      "perm is c\n",
      "out is ['bc']\n",
      "element is: c\n",
      "perm is b\n",
      "out is ['bc', 'cb']\n",
      "perm is bc\n",
      "out is ['abc']\n",
      "perm is cb\n",
      "out is ['abc', 'acb']\n",
      "element is: b\n",
      "element is: a\n",
      "perm is c\n",
      "out is ['ac']\n",
      "element is: c\n",
      "perm is a\n",
      "out is ['ac', 'ca']\n",
      "perm is ac\n",
      "out is ['abc', 'acb', 'bac']\n",
      "perm is ca\n",
      "out is ['abc', 'acb', 'bac', 'bca']\n",
      "element is: c\n",
      "element is: a\n",
      "perm is b\n",
      "out is ['ab']\n",
      "element is: b\n",
      "perm is a\n",
      "out is ['ab', 'ba']\n",
      "perm is ab\n",
      "out is ['abc', 'acb', 'bac', 'bca', 'cab']\n",
      "perm is ba\n",
      "out is ['abc', 'acb', 'bac', 'bca', 'cab', 'cba']\n"
     ]
    },
    {
     "data": {
      "text/plain": [
       "['abc', 'acb', 'bac', 'bca', 'cab', 'cba']"
      ]
     },
     "execution_count": 65,
     "metadata": {},
     "output_type": "execute_result"
    }
   ],
   "source": [
    "permute_sol('abc')"
   ]
  },
  {
   "cell_type": "code",
   "execution_count": 63,
   "metadata": {},
   "outputs": [
    {
     "name": "stdout",
     "output_type": "stream",
     "text": [
      "i and let:\n",
      " 0 + b \n",
      "\n",
      "slices:\n",
      "  + c = c \n",
      "\n",
      "\n",
      "\n",
      "i and let:\n",
      " 1 + c \n",
      "\n",
      "slices:\n",
      " b +  = b \n",
      "\n",
      "\n",
      "\n"
     ]
    }
   ],
   "source": [
    "s = 'bc'\n",
    "\n",
    "for i,let in enumerate(s):\n",
    "    print(\"i and let:\\n\",i,\"+\",let,\"\\n\")\n",
    "    print(\"slices:\\n\",s[:i], \"+\", s[i+1:],\"=\", s[:i] + s[i+1:],\"\\n\\n\\n\")\n",
    "\n",
    "\n",
    "\n"
   ]
  },
  {
   "cell_type": "code",
   "execution_count": 73,
   "metadata": {},
   "outputs": [
    {
     "data": {
      "text/plain": [
       "0"
      ]
     },
     "execution_count": 73,
     "metadata": {},
     "output_type": "execute_result"
    }
   ],
   "source": [
    "00 % 10"
   ]
  }
 ],
 "metadata": {
  "kernelspec": {
   "display_name": "Python 3",
   "language": "python",
   "name": "python3"
  },
  "language_info": {
   "codemirror_mode": {
    "name": "ipython",
    "version": 3
   },
   "file_extension": ".py",
   "mimetype": "text/x-python",
   "name": "python",
   "nbconvert_exporter": "python",
   "pygments_lexer": "ipython3",
   "version": "3.7.7"
  }
 },
 "nbformat": 4,
 "nbformat_minor": 4
}
