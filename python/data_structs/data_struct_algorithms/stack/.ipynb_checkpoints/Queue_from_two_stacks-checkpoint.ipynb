{
 "cells": [
  {
   "cell_type": "code",
   "execution_count": 2,
   "metadata": {},
   "outputs": [],
   "source": [
    "class Queue2Stacks(object):\n",
    "    \n",
    "    def __init__(self):\n",
    "        \n",
    "        ##Two Stacks\n",
    "        ##\n",
    "        self.stack1 = []\n",
    "        self.stack2 = []\n",
    "     \n",
    "    def enqueue(self,element):\n",
    "        \n",
    "        ##FILL OUT CODE HERE\n",
    "        ##\n",
    "        \n",
    "        ##appends to instack\n",
    "        ##\n",
    "        self.stack1.append(element)\n",
    "\n",
    "    \n",
    "    def dequeue(self):\n",
    "        \n",
    "        ##FILL OUT CODE HERE\n",
    "        ##\n",
    "        \n",
    "        ##reverse order of stack by placing into out stack\n",
    "        ##\n",
    "        \n",
    "        ##if outstack is empty pop all of in stack\n",
    "        ##into outstack\n",
    "        ##\n",
    "        if not self.stack2:\n",
    "            ##while in stack isn't empty\n",
    "            ##\n",
    "            while self.stack1:\n",
    "                self.stack2.append(self.stack1.pop())\n",
    "                  \n",
    "        return(self.stack2.pop())\n",
    "        "
   ]
  },
  {
   "cell_type": "code",
   "execution_count": null,
   "metadata": {},
   "outputs": [],
   "source": []
  }
 ],
 "metadata": {
  "kernelspec": {
   "display_name": "Python 3",
   "language": "python",
   "name": "python3"
  },
  "language_info": {
   "codemirror_mode": {
    "name": "ipython",
    "version": 3
   },
   "file_extension": ".py",
   "mimetype": "text/x-python",
   "name": "python",
   "nbconvert_exporter": "python",
   "pygments_lexer": "ipython3",
   "version": "3.7.7"
  }
 },
 "nbformat": 4,
 "nbformat_minor": 4
}
