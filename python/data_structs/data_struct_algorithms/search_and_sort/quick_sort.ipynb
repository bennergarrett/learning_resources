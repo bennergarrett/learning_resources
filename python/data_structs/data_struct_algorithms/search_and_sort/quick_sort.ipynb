{
 "cells": [
  {
   "cell_type": "code",
   "execution_count": 24,
   "metadata": {},
   "outputs": [],
   "source": [
    "def quick_sort(arr):\n",
    "    quick_sort_help(arr, 0, len(arr)-1)\n",
    "\n",
    "\n",
    "\n",
    "def quick_sort_help(arr, first, last):\n",
    "    if first < last:\n",
    "        splitpoint = partition(arr, first, last)\n",
    "        \n",
    "        ##similar to merge sort\n",
    "        ##\n",
    "        quick_sort_help(arr, first, splitpoint-1)\n",
    "        quick_sort_help(arr, splitpoint+1, last)\n",
    "\n",
    "\n",
    "def partition(arr, first, last):\n",
    "    pivotValue = arr[first]\n",
    "    \n",
    "    leftMark = first+1\n",
    "    rightMark = last\n",
    "    \n",
    "    done = False\n",
    "    \n",
    "    while not done:\n",
    "        ##moves left marker further in\n",
    "        ##\n",
    "        while leftMark <= rightMark and arr[leftMark] <= pivotValue:\n",
    "            leftMark += 1\n",
    "        \n",
    "        ##moves right marker further in\n",
    "        ##\n",
    "        while arr[rightMark] >= pivotValue and rightMark >= leftMark:\n",
    "            rightMark -= 1\n",
    "            \n",
    "        ##if at crossing point then done\n",
    "        ##\n",
    "        if rightMark < leftMark:\n",
    "            done = True\n",
    "        \n",
    "        else:\n",
    "            ##switch at crossover\n",
    "            ##\n",
    "            temp = arr[leftMark]\n",
    "            arr[leftMark] = arr[rightMark]\n",
    "            arr[rightMark] = temp\n",
    "    \n",
    "    temp = arr[first]\n",
    "    arr[first] = arr[rightMark]\n",
    "    arr[rightMark] = temp\n",
    "    \n",
    "    return rightMark\n",
    "    \n",
    "    "
   ]
  },
  {
   "cell_type": "code",
   "execution_count": 25,
   "metadata": {},
   "outputs": [
    {
     "data": {
      "text/plain": [
       "[2, 3, 6, 8, 9]"
      ]
     },
     "execution_count": 25,
     "metadata": {},
     "output_type": "execute_result"
    }
   ],
   "source": [
    "arr = [2, 6, 8, 3, 9]\n",
    "quick_sort(arr)\n",
    "arr"
   ]
  },
  {
   "cell_type": "code",
   "execution_count": 22,
   "metadata": {},
   "outputs": [
    {
     "data": {
      "text/plain": [
       "[6, 3, 8, 9, 9]"
      ]
     },
     "execution_count": 22,
     "metadata": {},
     "output_type": "execute_result"
    }
   ],
   "source": [
    "quick_sort(arr)"
   ]
  },
  {
   "cell_type": "code",
   "execution_count": 19,
   "metadata": {},
   "outputs": [
    {
     "data": {
      "text/plain": [
       "[6, 3, 8, 9, 9]"
      ]
     },
     "execution_count": 19,
     "metadata": {},
     "output_type": "execute_result"
    }
   ],
   "source": [
    "arr"
   ]
  }
 ],
 "metadata": {
  "kernelspec": {
   "display_name": "Python 3",
   "language": "python",
   "name": "python3"
  },
  "language_info": {
   "codemirror_mode": {
    "name": "ipython",
    "version": 3
   },
   "file_extension": ".py",
   "mimetype": "text/x-python",
   "name": "python",
   "nbconvert_exporter": "python",
   "pygments_lexer": "ipython3",
   "version": "3.7.7"
  }
 },
 "nbformat": 4,
 "nbformat_minor": 4
}
