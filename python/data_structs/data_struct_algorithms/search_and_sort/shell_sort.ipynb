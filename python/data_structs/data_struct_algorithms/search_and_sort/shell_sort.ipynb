{
 "cells": [
  {
   "cell_type": "code",
   "execution_count": 20,
   "metadata": {},
   "outputs": [],
   "source": [
    "def shell_sort(arr):\n",
    "    print('The list is',arr)\n",
    "    sublistcount = len(arr) // 2\n",
    "    \n",
    "    while sublistcount > 0:\n",
    "        for start in range(sublistcount):\n",
    "            ##seperate function that takes arr, start point, and gap\n",
    "            ##\n",
    "            gap_insertion_sort(arr, start, sublistcount)\n",
    "        \n",
    "        print('After increments of size', sublistcount)\n",
    "        print('The list is', arr)\n",
    "            \n",
    "        sublistcount = sublistcount // 2\n",
    "    return arr\n",
    "        \n",
    "        \n",
    "def gap_insertion_sort(arr, start, gap):\n",
    "    \n",
    "    ##range of start to gap, going to the length of the array and moving at the size of the gap\n",
    "    ##\n",
    "    for i in range(start + gap, len(arr), gap):\n",
    "        currentValue = arr[i]\n",
    "        position = i\n",
    "        \n",
    "        \n",
    "        while position >= gap and arr[position-gap] > currentValue:\n",
    "            arr[position] = arr[position-gap]\n",
    "            position = position-gap\n",
    "        \n",
    "        arr[position] = currentValue"
   ]
  },
  {
   "cell_type": "code",
   "execution_count": 21,
   "metadata": {},
   "outputs": [
    {
     "name": "stdout",
     "output_type": "stream",
     "text": [
      "The list is [1, 2, 5, 6, 8, 100, 4, 20, 62, 38, 94, 222, 17, 23, 72, -1]\n",
      "After increments of size 8\n",
      "The list is [1, 2, 5, 6, 8, 23, 4, -1, 62, 38, 94, 222, 17, 100, 72, 20]\n",
      "After increments of size 4\n",
      "The list is [1, 2, 4, -1, 8, 23, 5, 6, 17, 38, 72, 20, 62, 100, 94, 222]\n",
      "After increments of size 2\n",
      "The list is [1, -1, 4, 2, 5, 6, 8, 20, 17, 23, 62, 38, 72, 100, 94, 222]\n",
      "After increments of size 1\n",
      "The list is [-1, 1, 2, 4, 5, 6, 8, 17, 20, 23, 38, 62, 72, 94, 100, 222]\n"
     ]
    },
    {
     "data": {
      "text/plain": [
       "[-1, 1, 2, 4, 5, 6, 8, 17, 20, 23, 38, 62, 72, 94, 100, 222]"
      ]
     },
     "execution_count": 21,
     "metadata": {},
     "output_type": "execute_result"
    }
   ],
   "source": [
    "arr = [1, 2, 5, 6, 8, 100, 4, 20, 62, 38, 94, 222, 17, 23, 72, -1]\n",
    "\n",
    "shell_sort(arr)"
   ]
  }
 ],
 "metadata": {
  "kernelspec": {
   "display_name": "Python 3",
   "language": "python",
   "name": "python3"
  },
  "language_info": {
   "codemirror_mode": {
    "name": "ipython",
    "version": 3
   },
   "file_extension": ".py",
   "mimetype": "text/x-python",
   "name": "python",
   "nbconvert_exporter": "python",
   "pygments_lexer": "ipython3",
   "version": "3.7.7"
  }
 },
 "nbformat": 4,
 "nbformat_minor": 4
}
