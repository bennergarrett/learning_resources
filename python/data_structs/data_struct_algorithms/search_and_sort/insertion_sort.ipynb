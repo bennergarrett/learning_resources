{
 "cells": [
  {
   "cell_type": "code",
   "execution_count": 4,
   "metadata": {},
   "outputs": [],
   "source": [
    "def insertion_sort(arr):\n",
    "    ##goes from 1 to n-1\n",
    "    ##\n",
    "    for i in range(1, len(arr)):\n",
    "        currentValue = arr[i]\n",
    "        position = i\n",
    "        \n",
    "        ##clarifaction\n",
    "        ## while i > 0 and arr[i - 1] > arr[i]\n",
    "        ##\n",
    "        while position > 0 and arr[position - 1] > currentValue:\n",
    "            ##shifts items to make space\n",
    "            ##\n",
    "            arr[position] = arr[position-1]\n",
    "            position = position - 1\n",
    "        \n",
    "        arr[position] = currentValue\n",
    "        \n",
    "    return arr\n",
    "        \n",
    "        "
   ]
  },
  {
   "cell_type": "code",
   "execution_count": 5,
   "metadata": {},
   "outputs": [
    {
     "data": {
      "text/plain": [
       "[3, 5, 6, 14, 200]"
      ]
     },
     "execution_count": 5,
     "metadata": {},
     "output_type": "execute_result"
    }
   ],
   "source": [
    "arr = [14, 5, 3, 200, 6]\n",
    "insertion_sort(arr)"
   ]
  },
  {
   "cell_type": "code",
   "execution_count": null,
   "metadata": {},
   "outputs": [],
   "source": []
  }
 ],
 "metadata": {
  "kernelspec": {
   "display_name": "Python 3",
   "language": "python",
   "name": "python3"
  },
  "language_info": {
   "codemirror_mode": {
    "name": "ipython",
    "version": 3
   },
   "file_extension": ".py",
   "mimetype": "text/x-python",
   "name": "python",
   "nbconvert_exporter": "python",
   "pygments_lexer": "ipython3",
   "version": "3.7.7"
  }
 },
 "nbformat": 4,
 "nbformat_minor": 4
}
