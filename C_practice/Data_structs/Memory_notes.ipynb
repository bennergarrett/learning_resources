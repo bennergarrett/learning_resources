{
 "cells": [
  {
   "cell_type": "markdown",
   "metadata": {},
   "source": [
    "Data Structures Memory\n",
    "\n",
    "CPU - Applications run\n",
    "\n",
    "Main/Primary Memory - Temp storage\n",
    "    \n",
    "    -Stack\n",
    "        -gets deleted at end of call\n",
    "        -variables stored in stack\n",
    "        -ex: int a, float b\n",
    "          \n",
    "    -Heap\n",
    "        -unorganized memory\n",
    "        -resource in applications\n",
    "\n",
    "    -Code Section\n",
    "        -machine code of program\n",
    "        \n",
    "\n",
    "\n",
    "\n",
    "\n",
    "HDD - Internal Storage - Programs stored/Data\n",
    "\n",
    "Data structures =\n",
    "important to arrange data intelligently in main memory to utilize while program is running\n",
    "\n",
    "Database - stored in HDD - How arranged in storage\n",
    "\n",
    "operational data vs. legacy/historical data \n",
    "data warehouse\n",
    "\n",
    "Physical data structure\n",
    "\n",
    "    1. array\n",
    "\n",
    "    2. Linked List\n",
    "        -in heap\n",
    "\n",
    "logical data structure - used to store data\n",
    "\n",
    "    1. Stack - LIFO\n",
    "    2. Queues - FIFO\n",
    "    3. Trees - nonlinear\n",
    "    4. Graph - nonlinear\n",
    "    5. Hash Table - tabular\n",
    "   \n"
   ]
  },
  {
   "cell_type": "markdown",
   "metadata": {},
   "source": []
  },
  {
   "cell_type": "code",
   "execution_count": 2,
   "metadata": {},
   "outputs": [
    {
     "name": "stderr",
     "output_type": "stream",
     "text": [
      "\u001b[1minput_line_16:10:1: \u001b[0m\u001b[0;1;31merror: \u001b[0m\u001b[1mfunction definition is not allowed here\u001b[0m\n",
      "{\n",
      "\u001b[0;1;32m^\n",
      "\u001b[0m\u001b[1minput_line_16:19:1: \u001b[0m\u001b[0;1;31merror: \u001b[0m\u001b[1mfunction definition is not allowed here\u001b[0m\n",
      "{\n",
      "\u001b[0;1;32m^\n",
      "\u001b[0m"
     ]
    },
    {
     "ename": "Interpreter Error",
     "evalue": "",
     "output_type": "error",
     "traceback": [
      "Interpreter Error: "
     ]
    }
   ],
   "source": [
    "//used for C program\n",
    "//\n",
    "#include <stdio.h> //functions\n",
    "#include <stdlib.h> //malloc\n",
    "\n",
    "//used for C++ Program\n",
    "// operator new example\n",
    "//\n",
    "#include <iostream>     // std::cout\n",
    "#include <new>          // ::operator new\n",
    "\n",
    "void fun2(int i)\n",
    "{\n",
    "    //in stack\n",
    "    //\n",
    "    int a;\n",
    "    \n",
    "}\n",
    "\n",
    "void fun1()\n",
    "{\n",
    "    //in stack\n",
    "    //\n",
    "    int x;\n",
    "    //in code section\n",
    "    //\n",
    "    fun2(x);\n",
    "\n",
    "}\n",
    "\n",
    "\n",
    "int main(int argc, char **argv)\n",
    "{\n",
    "    //inside stack\n",
    "    //\n",
    "    int a; //2 bytes\n",
    "    float b; //4 bytes\n",
    "    //fun1();\n",
    "    int *p; //2 bytes\n",
    "    int *q;\n",
    "    //new statement allocates mem in heap\n",
    "    //for C++\n",
    "    //\n",
    "    //must release\n",
    "    //\n",
    "    //p = new int[5];\n",
    "    //q = (int *)malloc(2*5);\n",
    "    \n",
    "//EOF\n",
    "//\n",
    "}"
   ]
  },
  {
   "cell_type": "code",
   "execution_count": 3,
   "metadata": {},
   "outputs": [
    {
     "name": "stderr",
     "output_type": "stream",
     "text": [
      "\u001b[1minput_line_18:1:5: \u001b[0m\u001b[0;1;31merror: \u001b[0m\u001b[1mconflicting types for 'main'\u001b[0m\n",
      "int main()\n",
      "\u001b[0;1;32m    ^\n",
      "\u001b[0m\u001b[1minput_line_11:19:5: \u001b[0m\u001b[0;1;30mnote: \u001b[0mprevious definition is here\u001b[0m\n",
      "int main(int argc, char **argv)\n",
      "\u001b[0;1;32m    ^\n",
      "\u001b[0m"
     ]
    },
    {
     "ename": "Interpreter Error",
     "evalue": "",
     "output_type": "error",
     "traceback": [
      "Interpreter Error: "
     ]
    }
   ],
   "source": [
    "#include <stdio.h> //functions\n",
    "#include <iostream>     // std::cout\n",
    "\n",
    "int main()\n",
    "{    \n",
    "    printf(\"hello World\");\n",
    "}"
   ]
  },
  {
   "cell_type": "markdown",
   "metadata": {},
   "source": [
    "Abstract Datatype\n",
    "\n",
    "    Abstract Datatype\n",
    "    1. Representation of Data\n",
    "    2. Operation on Data\n",
    "    "
   ]
  },
  {
   "cell_type": "code",
   "execution_count": null,
   "metadata": {},
   "outputs": [],
   "source": []
  }
 ],
 "metadata": {
  "kernelspec": {
   "display_name": "C++11",
   "language": "C++11",
   "name": "xcpp11"
  },
  "language_info": {
   "codemirror_mode": "text/x-c++src",
   "file_extension": ".cpp",
   "mimetype": "text/x-c++src",
   "name": "c++",
   "version": "11"
  }
 },
 "nbformat": 4,
 "nbformat_minor": 4
}
