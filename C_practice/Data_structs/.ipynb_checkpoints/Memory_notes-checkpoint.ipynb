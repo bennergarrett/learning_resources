{
 "cells": [
  {
   "cell_type": "markdown",
   "metadata": {},
   "source": [
    "Data Structures Memory\n",
    "\n",
    "CPU - Applications run\n",
    "\n",
    "Main/Primary Memory - Temp storage\n",
    "    \n",
    "    -Stack\n",
    "        -gets deleted at end of call\n",
    "        -variables stored in stack\n",
    "        -ex: int a, float b\n",
    "          \n",
    "    -Heap\n",
    "        -unorganized memory\n",
    "        -resource in applications\n",
    "\n",
    "    -Code Section\n",
    "        -machine code of program\n",
    "        \n",
    "\n",
    "\n",
    "\n",
    "\n",
    "HDD - Internal Storage - Programs stored/Data\n",
    "\n",
    "Data structures =\n",
    "important to arrange data intelligently in main memory to utilize while program is running\n",
    "\n",
    "Database - stored in HDD - How arranged in storage\n",
    "\n",
    "operational data vs. legacy/historical data \n",
    "data warehouse\n",
    "\n",
    "\n",
    "\n"
   ]
  },
  {
   "cell_type": "markdown",
   "metadata": {},
   "source": []
  },
  {
   "cell_type": "code",
   "execution_count": 17,
   "metadata": {},
   "outputs": [
    {
     "name": "stderr",
     "output_type": "stream",
     "text": [
      "/var/folders/v3/z_h_vrmx47z0sk62q2gs094m0000gn/T/tmpbr_gzvqd.c:9:10: fatal error: 'iostream' file not found\n",
      "#include <iostream>     // std::cout\n",
      "         ^~~~~~~~~~\n",
      "1 error generated.\n",
      "[C kernel] GCC exited with code 1, the executable will not be executed"
     ]
    }
   ],
   "source": [
    "//used for C program\n",
    "//\n",
    "#include <stdio.h> //functions\n",
    "#include <stdlib.h> //malloc\n",
    "\n",
    "//used for C++ Program\n",
    "// operator new example\n",
    "//\n",
    "#include <iostream>     // std::cout\n",
    "#include <new>          // ::operator new\n",
    "\n",
    "void fun2(int i)\n",
    "{\n",
    "    //in stack\n",
    "    //\n",
    "    int a;\n",
    "    \n",
    "}\n",
    "\n",
    "void fun1()\n",
    "{\n",
    "    //in stack\n",
    "    //\n",
    "    int x;\n",
    "    //in code section\n",
    "    //\n",
    "    fun2(x);\n",
    "\n",
    "}\n",
    "\n",
    "\n",
    "int main(int argc, char **argv)\n",
    "{\n",
    "    //inside stack\n",
    "    //\n",
    "    int a; //2 bytes\n",
    "    float b; //4 bytes\n",
    "    fun1();\n",
    "    int *p; //2 bytes\n",
    "    int *q;\n",
    "    //new statement allocates mem in heap\n",
    "    //for C++\n",
    "    //\n",
    "    p = new int[5];\n",
    "    q = (int *)malloc(2*5);\n",
    "    \n",
    "//EOF\n",
    "//\n",
    "}"
   ]
  },
  {
   "cell_type": "code",
   "execution_count": null,
   "metadata": {},
   "outputs": [],
   "source": []
  }
 ],
 "metadata": {
  "kernelspec": {
   "display_name": "C",
   "language": "c",
   "name": "c"
  },
  "language_info": {
   "file_extension": ".c",
   "mimetype": "text/plain",
   "name": "c"
  }
 },
 "nbformat": 4,
 "nbformat_minor": 4
}
