{
 "cells": [
  {
   "cell_type": "code",
   "execution_count": null,
   "metadata": {},
   "outputs": [],
   "source": []
  },
  {
   "cell_type": "code",
   "execution_count": 4,
   "metadata": {},
   "outputs": [
    {
     "name": "stderr",
     "output_type": "stream",
     "text": [
      "/var/folders/v3/z_h_vrmx47z0sk62q2gs094m0000gn/T/tmpbwxunbna.c:11:1: warning: control may reach end of non-void function [-Wreturn-type]\n",
      "}\n",
      "^\n",
      "1 warning generated.\n"
     ]
    },
    {
     "name": "stdout",
     "output_type": "stream",
     "text": [
      "15"
     ]
    }
   ],
   "source": [
    "#include <stdio.h>\n",
    "\n",
    "/*using local variables n*/\n",
    "/**/\n",
    "int fun(int n)\n",
    "{\n",
    "    if(n>0)\n",
    "    {\n",
    "        return fun(n-1) + n;\n",
    "    }    \n",
    "}\n",
    "\n",
    "int main() \n",
    "{\n",
    "    int r;\n",
    "    r=fun(5);\n",
    "    printf(\"%d\", r);\n",
    "    return 0;\n",
    "    \n",
    "}"
   ]
  },
  {
   "cell_type": "code",
   "execution_count": 9,
   "metadata": {},
   "outputs": [
    {
     "name": "stderr",
     "output_type": "stream",
     "text": [
      "/var/folders/v3/z_h_vrmx47z0sk62q2gs094m0000gn/T/tmpw8_4xij0.c:13:1: warning: control may reach end of non-void function [-Wreturn-type]\n",
      "}\n",
      "^\n",
      "1 warning generated.\n"
     ]
    },
    {
     "name": "stdout",
     "output_type": "stream",
     "text": [
      "25\n",
      "50"
     ]
    }
   ],
   "source": [
    "#include <stdio.h>\n",
    "\n",
    "/*using static variables x */\n",
    "/**/\n",
    "int fun(int n)\n",
    "{\n",
    "    static int x=0;\n",
    "    if(n>0)\n",
    "    {\n",
    "        x++;\n",
    "        return fun(n-1) + x;\n",
    "    }    \n",
    "}\n",
    "\n",
    "int main() \n",
    "{\n",
    "    int r;\n",
    "    r=fun(5);\n",
    "    printf(\"%d\\n\", r);\n",
    "    r=fun(5);\n",
    "    printf(\"%d\", r);\n",
    "    return 0;    \n",
    "}"
   ]
  }
 ],
 "metadata": {
  "kernelspec": {
   "display_name": "C",
   "language": "c",
   "name": "c"
  },
  "language_info": {
   "file_extension": ".c",
   "mimetype": "text/plain",
   "name": "c"
  }
 },
 "nbformat": 4,
 "nbformat_minor": 4
}
