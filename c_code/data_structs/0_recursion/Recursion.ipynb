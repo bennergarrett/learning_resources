{
 "cells": [
  {
   "cell_type": "code",
   "execution_count": 19,
   "metadata": {},
   "outputs": [
    {
     "name": "stdout",
     "output_type": "stream",
     "text": [
      "25"
     ]
    }
   ],
   "source": [
    "#include <stdio.h>\n",
    "int fun1(int n)\n",
    "{\n",
    "    //created in code section\n",
    "    static int x=0;\n",
    "    if(n>0){\n",
    "        x++;\n",
    "        //printf(\"%d\\n\", n);\n",
    "\n",
    "        return fun1(n-1)+x;\n",
    "        //printf(\"%d\\n\", n);      \n",
    "    }     \n",
    "    return 0;\n",
    "}\n",
    "\n",
    "int main()\n",
    "{\n",
    "    int x = 5;\n",
    "    printf(\"%d\",fun1(x));\n",
    "}"
   ]
  },
  {
   "cell_type": "code",
   "execution_count": null,
   "metadata": {},
   "outputs": [],
   "source": []
  }
 ],
 "metadata": {
  "kernelspec": {
   "display_name": "C",
   "language": "c",
   "name": "c"
  },
  "language_info": {
   "file_extension": ".c",
   "mimetype": "text/plain",
   "name": "c"
  }
 },
 "nbformat": 4,
 "nbformat_minor": 4
}
