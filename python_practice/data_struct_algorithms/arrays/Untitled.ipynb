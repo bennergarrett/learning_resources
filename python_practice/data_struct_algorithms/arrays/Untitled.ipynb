{
 "cells": [
  {
   "cell_type": "markdown",
   "metadata": {},
   "source": [
    "John works at a clothing store. He has a large pile of socks that he must pair by color for sale. Given an array of integers representing the color of each sock, determine how many pairs of socks with matching colors there are.\n",
    "For example, there are n=7 socks with colors ar= [1,2,1,2,1,3,2]. There is one pair of color 1 and one of color 2. There are three odd socks left, one of each color. The number of pairs is 2."
   ]
  },
  {
   "cell_type": "code",
   "execution_count": 81,
   "metadata": {},
   "outputs": [],
   "source": [
    "def sockMerchant(n, ar):\n",
    "    \n",
    "    ##edge case to see if array has less than 2 socks\n",
    "    ##\n",
    "    if n < 2:\n",
    "        return 0\n",
    "    \n",
    "    ##start iterator\n",
    "    ##\n",
    "    i = 1\n",
    "    ##start count at 1 since there will always be one sock\n",
    "    ##\n",
    "    count = 1\n",
    "    \n",
    "    ##pairs being counted\n",
    "    ##\n",
    "    pairs = 0\n",
    "    \n",
    "    ##sort array\n",
    "    ## def coult be made to do manually\n",
    "    ##\n",
    "    ar.sort()\n",
    "    print(ar\n",
    "         )\n",
    "    ##while i is less than the length of array\n",
    "    ##\n",
    "    while i < n:\n",
    "        #print(\"arr: \" + str(ar[i]) + \" == \" + str(ar[i-1]))\n",
    "        \n",
    "        ##while numbers match add them to see\n",
    "        ##how many socks there are\n",
    "        ##\n",
    "        while i<n and ar[i] == ar[i-1]:\n",
    "            count += 1\n",
    "            #print(\"arr: \" + str(ar[i]) + \" == \" + str(ar[i-1]))\n",
    "            i += 1\n",
    "            \n",
    "        ##if divisible by 2 divide and add to pairs\n",
    "        ##\n",
    "        if count % 2 == 0:\n",
    "            pairs += count/2\n",
    "            count =1\n",
    "        ##subtract 1 to make divisible and divide\n",
    "        ##then add to pairs\n",
    "        ##\n",
    "        else:\n",
    "            pairs += (count - 1) / 2\n",
    "            count = 1\n",
    "        #print(pairs)\n",
    "        i += 1\n",
    "    \n",
    "\n",
    "    return pairs"
   ]
  },
  {
   "cell_type": "code",
   "execution_count": 83,
   "metadata": {},
   "outputs": [
    {
     "name": "stdout",
     "output_type": "stream",
     "text": [
      "[1, 1, 1, 2, 2, 2, 3, 3, 3, 3, 5, 5, 5, 5, 6]\n",
      "arr: 1 == 1\n",
      "arr: 1 == 1\n",
      "arr: 1 == 1\n",
      "1.0\n",
      "arr: 2 == 2\n",
      "arr: 2 == 2\n",
      "arr: 2 == 2\n",
      "2.0\n",
      "arr: 3 == 3\n",
      "arr: 3 == 3\n",
      "arr: 3 == 3\n",
      "arr: 3 == 3\n",
      "4.0\n",
      "arr: 5 == 5\n",
      "arr: 5 == 5\n",
      "arr: 5 == 5\n",
      "arr: 5 == 5\n",
      "6.0\n"
     ]
    },
    {
     "data": {
      "text/plain": [
       "6.0"
      ]
     },
     "execution_count": 83,
     "metadata": {},
     "output_type": "execute_result"
    }
   ],
   "source": [
    "sockMerchant(15, [6, 5, 2, 3, 5, 2, 2, 1, 1, 5, 1, 3, 3, 3, 5])"
   ]
  },
  {
   "cell_type": "code",
   "execution_count": 152,
   "metadata": {},
   "outputs": [],
   "source": [
    "def countingValleys(n, s):\n",
    "    i = 0\n",
    "    count = 0\n",
    "    mark = 0\n",
    "    total = 0\n",
    "    \n",
    "    while i < n:\n",
    "        \n",
    "        if s[i] == \"D\" and i < n -1:\n",
    "            total += 1\n",
    "            print(\"in D\")\n",
    "            i+=1\n",
    "            count -= 1\n",
    "            \n",
    "            while i < n and mark > count:\n",
    "                \n",
    "                if s[i]== \"U\":\n",
    "                    count += 1\n",
    "                else:\n",
    "                    count -= 1\n",
    "               #print(\"count: \" + str(count) + \" mark: \" + str(mark))\n",
    "                i += 1\n",
    "\n",
    "        count = 0\n",
    "    \n",
    "            \n",
    "            \n",
    "        #print(count)\n",
    "        i += 1\n",
    "    return total"
   ]
  },
  {
   "cell_type": "code",
   "execution_count": 153,
   "metadata": {},
   "outputs": [
    {
     "name": "stdout",
     "output_type": "stream",
     "text": [
      "in D\n"
     ]
    },
    {
     "data": {
      "text/plain": [
       "1"
      ]
     },
     "execution_count": 153,
     "metadata": {},
     "output_type": "execute_result"
    }
   ],
   "source": [
    "countingValleys(8, 'UDDDUDUU')"
   ]
  },
  {
   "cell_type": "code",
   "execution_count": 2,
   "metadata": {},
   "outputs": [
    {
     "data": {
      "text/plain": [
       "1"
      ]
     },
     "execution_count": 2,
     "metadata": {},
     "output_type": "execute_result"
    }
   ],
   "source": [
    "countingValleys(12, 'DDUUDDUDUUUD')"
   ]
  },
  {
   "cell_type": "code",
   "execution_count": 172,
   "metadata": {},
   "outputs": [
    {
     "data": {
      "text/plain": [
       "0"
      ]
     },
     "execution_count": 172,
     "metadata": {},
     "output_type": "execute_result"
    }
   ],
   "source": [
    " countingValleys(10, 'UDUUUDUDDD')"
   ]
  },
  {
   "cell_type": "code",
   "execution_count": 93,
   "metadata": {},
   "outputs": [],
   "source": [
    "def countingValleys(n, s):\n",
    "    i = 0\n",
    "    count = 0\n",
    "    mark = []\n",
    "    total = 0\n",
    "    \n",
    "    while i < n:\n",
    "        if s[i] == \"U\":\n",
    "            count += 1\n",
    "        else:\n",
    "            count -= 1\n",
    "        \n",
    "        if count < 0:\n",
    "            mark.append(-1)\n",
    "        else:\n",
    "            mark.append(0)\n",
    "        i += 1\n",
    "        #print(count)\n",
    "        \n",
    "    j = 0    \n",
    "    print(mark)\n",
    "    while j < len(mark):\n",
    "        if mark[j] != 0:\n",
    "            total += 1\n",
    "            print(\"[\" + str(j) + \"] \" + \"j num is: \" + str(mark[j]))\n",
    "            while mark[j] == -1:\n",
    "\n",
    "                j += 1\n",
    "        j += 1\n",
    "\n",
    "            \n",
    "    return total\n",
    "        \n",
    "            \n",
    "            \n",
    "        \n",
    "    \n",
    "    "
   ]
  },
  {
   "cell_type": "code",
   "execution_count": 94,
   "metadata": {},
   "outputs": [
    {
     "name": "stdout",
     "output_type": "stream",
     "text": [
      "[0, 0, 0, 0, 0, 0, 0, 0, 0, 0]\n"
     ]
    },
    {
     "data": {
      "text/plain": [
       "0"
      ]
     },
     "execution_count": 94,
     "metadata": {},
     "output_type": "execute_result"
    }
   ],
   "source": [
    " countingValleys(10, 'UDUUUDUDDD')"
   ]
  },
  {
   "cell_type": "code",
   "execution_count": 95,
   "metadata": {},
   "outputs": [
    {
     "name": "stdout",
     "output_type": "stream",
     "text": [
      "[-1, -1, -1, 0, -1, -1, -1, -1, -1, 0, 0, 0]\n",
      "[0] j num is: -1\n",
      "[4] j num is: -1\n"
     ]
    },
    {
     "data": {
      "text/plain": [
       "2"
      ]
     },
     "execution_count": 95,
     "metadata": {},
     "output_type": "execute_result"
    }
   ],
   "source": [
    "countingValleys(12, 'DDUUDDUDUUUD')"
   ]
  },
  {
   "cell_type": "code",
   "execution_count": 96,
   "metadata": {},
   "outputs": [
    {
     "name": "stdout",
     "output_type": "stream",
     "text": [
      "[0, 0, -1, -1, -1, -1, -1, 0]\n",
      "[2] j num is: -1\n"
     ]
    },
    {
     "data": {
      "text/plain": [
       "1"
      ]
     },
     "execution_count": 96,
     "metadata": {},
     "output_type": "execute_result"
    }
   ],
   "source": [
    "countingValleys(8, 'UDDDUDUU')"
   ]
  },
  {
   "cell_type": "code",
   "execution_count": 97,
   "metadata": {},
   "outputs": [
    {
     "name": "stdout",
     "output_type": "stream",
     "text": [
      "[-1, 0, -1, -1, -1, -1, -1, -1, -1, 0]\n",
      "[0] j num is: -1\n",
      "[2] j num is: -1\n"
     ]
    },
    {
     "data": {
      "text/plain": [
       "2"
      ]
     },
     "execution_count": 97,
     "metadata": {},
     "output_type": "execute_result"
    }
   ],
   "source": [
    "countingValleys(10, 'DUDDDUUDUU')"
   ]
  }
 ],
 "metadata": {
  "kernelspec": {
   "display_name": "Python 3",
   "language": "python",
   "name": "python3"
  },
  "language_info": {
   "codemirror_mode": {
    "name": "ipython",
    "version": 3
   },
   "file_extension": ".py",
   "mimetype": "text/x-python",
   "name": "python",
   "nbconvert_exporter": "python",
   "pygments_lexer": "ipython3",
   "version": "3.7.7"
  }
 },
 "nbformat": 4,
 "nbformat_minor": 4
}
