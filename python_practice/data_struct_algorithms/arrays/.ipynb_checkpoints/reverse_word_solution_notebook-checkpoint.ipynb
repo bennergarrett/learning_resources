{
 "cells": [
  {
   "cell_type": "code",
   "execution_count": 28,
   "metadata": {},
   "outputs": [],
   "source": [
    "def rev_word(s):\n",
    "    \n",
    "    ##stores words\n",
    "    ##\n",
    "    words= []\n",
    "    \n",
    "    ##length of string\n",
    "    ##\n",
    "    length = len(s)\n",
    "    \n",
    "    ##check for space\n",
    "    ##\n",
    "    spaces = [' ']\n",
    "    \n",
    "    ##counter\n",
    "    ##\n",
    "    i = 0\n",
    "    \n",
    "    ##while i is less than length of string\n",
    "    ##\n",
    "    while i < length:\n",
    "        ##if letter in string is not a space\n",
    "        ##\n",
    "        if s[i] not in spaces:\n",
    "            \n",
    "            ##mark where letter starts\n",
    "            ##\n",
    "            word_start = i\n",
    "            \n",
    "            ##check for more words until next space\n",
    "            ##\n",
    "            while i < length and s[i] not in spaces:\n",
    "                ##keep adding until no more letters or space appears\n",
    "                ##\n",
    "                i += 1\n",
    "            ##use markers to add word to list/array\n",
    "            ##\n",
    "            words.append(s[word_start:i])\n",
    "        ##iterate to next letter\n",
    "        ##\n",
    "        i+=1\n",
    "        \n",
    "    ##returns reversed words\n",
    "    return \" \".join(reversing(words))\n",
    "\n",
    "def reversing(arr):\n",
    "    new_list = []\n",
    "    i = length = len(arr) - 1\n",
    "    while i >= 0:\n",
    "        new_list.append(arr[i])\n",
    "        i -= 1\n",
    "    return new_list\n",
    "        "
   ]
  },
  {
   "cell_type": "code",
   "execution_count": 29,
   "metadata": {},
   "outputs": [
    {
     "data": {
      "text/plain": [
       "'go? to ready you are John, Hi'"
      ]
     },
     "execution_count": 29,
     "metadata": {},
     "output_type": "execute_result"
    }
   ],
   "source": [
    "rev_word('Hi John,   are you ready to go?')"
   ]
  },
  {
   "cell_type": "code",
   "execution_count": null,
   "metadata": {},
   "outputs": [],
   "source": [
    "def rev_words_pract(s):\n",
    "    \n",
    "    words="
   ]
  }
 ],
 "metadata": {
  "kernelspec": {
   "display_name": "Python 3",
   "language": "python",
   "name": "python3"
  },
  "language_info": {
   "codemirror_mode": {
    "name": "ipython",
    "version": 3
   },
   "file_extension": ".py",
   "mimetype": "text/x-python",
   "name": "python",
   "nbconvert_exporter": "python",
   "pygments_lexer": "ipython3",
   "version": "3.7.7"
  }
 },
 "nbformat": 4,
 "nbformat_minor": 4
}
