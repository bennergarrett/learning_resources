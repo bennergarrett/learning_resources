{
 "cells": [
  {
   "cell_type": "code",
   "execution_count": 1,
   "metadata": {},
   "outputs": [],
   "source": [
    "import ctypes\n",
    "import sys\n",
    "\n",
    "class dynamic_array(object):\n",
    "\n",
    "    def __init__(self):\n",
    "\n",
    "        ##count\n",
    "        ##\n",
    "        self.n = 0\n",
    "        ##one element by default\n",
    "        ##\n",
    "        self.capacity = 1\n",
    "        ##makes makes array\n",
    "        ##\n",
    "        self.A = self.make_array(self.capacity)\n",
    "\n",
    "    ##returns number of elements in array\n",
    "    ##\n",
    "    def __len__(self):\n",
    "        return self.n\n",
    "\n",
    "    ##return elements in index k\n",
    "    ##\n",
    "    def __getitem__(self, k):\n",
    "        ##if k isn't in between 0 and count return error\n",
    "        ##\n",
    "        if not 0 <= k < self.n:\n",
    "            return IndexError('K is out of Bounds!')\n",
    "        return self.A[k]\n",
    "\n",
    "    ##add element to end of array\n",
    "    ##\n",
    "    def append(self, ele):\n",
    "\n",
    "        if self.n == self.capacity:\n",
    "            ##2x if capcity isn't enough\n",
    "            ##\n",
    "            print(\"I'm resizing!\")\n",
    "            self._resize(2*self.capacity)\n",
    "        self.A[self.n] = ele\n",
    "        self.n += 1\n",
    "\n",
    "    def _resize(self, new_cap):\n",
    "\n",
    "        ##make new array size of new_cap\n",
    "        ##\n",
    "        B = self.make_array(new_cap)\n",
    "\n",
    "        for k in range(self.n):\n",
    "            B[k] = self.A[k]\n",
    "        self.A = B\n",
    "        self.capacity = new_cap\n",
    "\n",
    "    def make_array(self, new_cap):\n",
    "\n",
    "        return (new_cap * ctypes.py_object)()\n",
    "\n"
   ]
  },
  {
   "cell_type": "code",
   "execution_count": 2,
   "metadata": {},
   "outputs": [],
   "source": [
    "arr = dynamic_array()"
   ]
  },
  {
   "cell_type": "code",
   "execution_count": 3,
   "metadata": {},
   "outputs": [
    {
     "data": {
      "text/plain": [
       "64"
      ]
     },
     "execution_count": 3,
     "metadata": {},
     "output_type": "execute_result"
    }
   ],
   "source": [
    "sys.getsizeof(arr)"
   ]
  },
  {
   "cell_type": "code",
   "execution_count": 3,
   "metadata": {},
   "outputs": [],
   "source": [
    "arr.append(1)"
   ]
  },
  {
   "cell_type": "code",
   "execution_count": 4,
   "metadata": {},
   "outputs": [
    {
     "name": "stdout",
     "output_type": "stream",
     "text": [
      "I'm resizing!\n"
     ]
    }
   ],
   "source": [
    "arr.append(2)"
   ]
  },
  {
   "cell_type": "code",
   "execution_count": 19,
   "metadata": {},
   "outputs": [
    {
     "data": {
      "text/plain": [
       "64"
      ]
     },
     "execution_count": 19,
     "metadata": {},
     "output_type": "execute_result"
    }
   ],
   "source": [
    "sys.getsizeof(arr)"
   ]
  },
  {
   "cell_type": "code",
   "execution_count": 5,
   "metadata": {},
   "outputs": [
    {
     "name": "stdout",
     "output_type": "stream",
     "text": [
      "I'm resizing!\n"
     ]
    }
   ],
   "source": [
    "arr.append(3)"
   ]
  },
  {
   "cell_type": "code",
   "execution_count": 10,
   "metadata": {},
   "outputs": [
    {
     "name": "stdout",
     "output_type": "stream",
     "text": [
      "I'm resizing!\n"
     ]
    }
   ],
   "source": [
    "arr.append(\"hello just testing!\")"
   ]
  },
  {
   "cell_type": "code",
   "execution_count": 11,
   "metadata": {},
   "outputs": [
    {
     "data": {
      "text/plain": [
       "5"
      ]
     },
     "execution_count": 11,
     "metadata": {},
     "output_type": "execute_result"
    }
   ],
   "source": [
    "len(arr)"
   ]
  },
  {
   "cell_type": "code",
   "execution_count": 20,
   "metadata": {},
   "outputs": [
    {
     "data": {
      "text/plain": [
       "64"
      ]
     },
     "execution_count": 20,
     "metadata": {},
     "output_type": "execute_result"
    }
   ],
   "source": [
    "sys.getsizeof(arr)"
   ]
  }
 ],
 "metadata": {
  "kernelspec": {
   "display_name": "Python 3",
   "language": "python",
   "name": "python3"
  },
  "language_info": {
   "codemirror_mode": {
    "name": "ipython",
    "version": 3
   },
   "file_extension": ".py",
   "mimetype": "text/x-python",
   "name": "python",
   "nbconvert_exporter": "python",
   "pygments_lexer": "ipython3",
   "version": "3.7.7"
  }
 },
 "nbformat": 4,
 "nbformat_minor": 4
}
