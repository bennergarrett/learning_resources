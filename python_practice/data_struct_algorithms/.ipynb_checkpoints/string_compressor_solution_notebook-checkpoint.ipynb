{
 "cells": [
  {
   "cell_type": "code",
   "execution_count": 15,
   "metadata": {},
   "outputs": [],
   "source": [
    "def compress(s):\n",
    "    \n",
    "    ##run length of letters\n",
    "    ##\n",
    "    r = \"\"\n",
    "    \n",
    "    ## length of string\n",
    "    ##\n",
    "    l = len(s)\n",
    "    \n",
    "    ## edge cases\n",
    "    ##\n",
    "    if l == 0:\n",
    "        return \"\"\n",
    "    if l == 1:\n",
    "        return s+\"1\"\n",
    "    \n",
    "    ##count will always be at least 1\n",
    "    ##\n",
    "    cnt = 1\n",
    "\n",
    "    ##start iterator at 1 since comparing letter before\n",
    "    ##\n",
    "    i = 1\n",
    "   \n",
    "\n",
    "    while i < l:\n",
    "        ##if letter same as last add to count\n",
    "        ##\n",
    "        if s[i] == s[i-1]:\n",
    "            cnt+=1\n",
    "            \n",
    "        ##once letter before is different\n",
    "        ##add letter before change and last counted\n",
    "        ##to itself\n",
    "        ##\n",
    "        else:\n",
    "            r = r+s[i-1] + str(cnt)\n",
    "            cnt = 1\n",
    "        i += 1\n",
    "        \n",
    "    r = r + s[i-1] + str(cnt)\n",
    "    \n",
    "    return r\n",
    "    \n",
    "    "
   ]
  },
  {
   "cell_type": "code",
   "execution_count": 16,
   "metadata": {},
   "outputs": [
    {
     "name": "stdout",
     "output_type": "stream",
     "text": [
      "A5\n",
      "A5B4\n"
     ]
    },
    {
     "data": {
      "text/plain": [
       "'A5B4C4'"
      ]
     },
     "execution_count": 16,
     "metadata": {},
     "output_type": "execute_result"
    }
   ],
   "source": [
    "compress('AAAAABBBBCCCC')"
   ]
  }
 ],
 "metadata": {
  "kernelspec": {
   "display_name": "Python 3",
   "language": "python",
   "name": "python3"
  },
  "language_info": {
   "codemirror_mode": {
    "name": "ipython",
    "version": 3
   },
   "file_extension": ".py",
   "mimetype": "text/x-python",
   "name": "python",
   "nbconvert_exporter": "python",
   "pygments_lexer": "ipython3",
   "version": "3.7.7"
  }
 },
 "nbformat": 4,
 "nbformat_minor": 4
}
