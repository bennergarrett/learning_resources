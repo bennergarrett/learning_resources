{
 "cells": [
  {
   "cell_type": "code",
   "execution_count": 25,
   "metadata": {},
   "outputs": [],
   "source": [
    "def anagram(s1, s2):\n",
    "    ##remove spaces and capitalization\n",
    "    ##\n",
    "    s1 = s1.replace(\" \", \"\").lower()\n",
    "    s2 = s2.replace(\" \", \"\").lower()\n",
    "    \n",
    "    ##python solution\n",
    "    ##\n",
    "    ##return sorted(s1) == sorted(s2)\n",
    "    \n",
    "    ##Edge case check\n",
    "    ##\n",
    "    if len(s1) != len(s2):\n",
    "        return False\n",
    "    \n",
    "    ## count dictionary\n",
    "    ##\n",
    "    count = {}\n",
    "    \n",
    "    ##add amount of times a letter is used\n",
    "    ##\n",
    "    for letter in s1:\n",
    "        \n",
    "        if letter in count:\n",
    "            count[letter] += 1\n",
    "        else: \n",
    "            count[letter] = 1\n",
    "        #print(count)\n",
    "        \n",
    "    ##subtract amount of times letter is used\n",
    "    ##if difference is equal to 0 they are anagrams\n",
    "    ##\n",
    "    for letter in s2:\n",
    "        \n",
    "        if letter in count:\n",
    "            count[letter] -= 1\n",
    "        else: \n",
    "            count[letter] = 1\n",
    "        print(count)\n",
    "    \n",
    "    ##check if any letters in collection are not equal to zero\n",
    "    ##\n",
    "    for k in count:\n",
    "        if count[k] != 0:\n",
    "            return False\n",
    "\n",
    "    return True\n",
    "    "
   ]
  },
  {
   "cell_type": "code",
   "execution_count": 31,
   "metadata": {},
   "outputs": [
    {
     "name": "stdout",
     "output_type": "stream",
     "text": [
      "{'c': 1}\n",
      "{'c': 1, 'l': 1}\n",
      "{'c': 1, 'l': 1, 'i': 1}\n",
      "{'c': 1, 'l': 1, 'i': 1, 'n': 1}\n",
      "{'c': 1, 'l': 1, 'i': 1, 'n': 1, 't': 1}\n",
      "{'c': 1, 'l': 1, 'i': 1, 'n': 1, 't': 1, 'e': 1}\n",
      "{'c': 1, 'l': 1, 'i': 1, 'n': 1, 't': 1, 'e': 1, 'a': 1}\n",
      "{'c': 1, 'l': 1, 'i': 1, 'n': 1, 't': 1, 'e': 1, 'a': 1, 's': 1}\n",
      "{'c': 1, 'l': 1, 'i': 1, 'n': 1, 't': 2, 'e': 1, 'a': 1, 's': 1}\n",
      "{'c': 1, 'l': 1, 'i': 1, 'n': 1, 't': 2, 'e': 1, 'a': 1, 's': 1, 'w': 1}\n",
      "{'c': 1, 'l': 1, 'i': 1, 'n': 1, 't': 2, 'e': 1, 'a': 1, 's': 1, 'w': 1, 'o': 1}\n",
      "{'c': 1, 'l': 1, 'i': 1, 'n': 1, 't': 2, 'e': 1, 'a': 1, 's': 1, 'w': 1, 'o': 2}\n",
      "{'c': 1, 'l': 1, 'i': 1, 'n': 1, 't': 2, 'e': 1, 'a': 1, 's': 1, 'w': 1, 'o': 2, 'd': 1}\n",
      "{'c': 1, 'l': 1, 'i': 1, 'n': 1, 't': 2, 'e': 1, 'a': 1, 's': 1, 'w': 1, 'o': 1, 'd': 1}\n",
      "{'c': 1, 'l': 0, 'i': 1, 'n': 1, 't': 2, 'e': 1, 'a': 1, 's': 1, 'w': 1, 'o': 1, 'd': 1}\n",
      "{'c': 1, 'l': 0, 'i': 1, 'n': 1, 't': 2, 'e': 1, 'a': 1, 's': 1, 'w': 1, 'o': 1, 'd': 0}\n",
      "{'c': 1, 'l': 0, 'i': 1, 'n': 1, 't': 2, 'e': 1, 'a': 1, 's': 1, 'w': 0, 'o': 1, 'd': 0}\n",
      "{'c': 1, 'l': 0, 'i': 1, 'n': 1, 't': 2, 'e': 0, 'a': 1, 's': 1, 'w': 0, 'o': 1, 'd': 0}\n",
      "{'c': 1, 'l': 0, 'i': 1, 'n': 1, 't': 2, 'e': 0, 'a': 1, 's': 0, 'w': 0, 'o': 1, 'd': 0}\n",
      "{'c': 1, 'l': 0, 'i': 1, 'n': 1, 't': 1, 'e': 0, 'a': 1, 's': 0, 'w': 0, 'o': 1, 'd': 0}\n",
      "{'c': 1, 'l': 0, 'i': 1, 'n': 1, 't': 1, 'e': 0, 'a': 0, 's': 0, 'w': 0, 'o': 1, 'd': 0}\n",
      "{'c': 0, 'l': 0, 'i': 1, 'n': 1, 't': 1, 'e': 0, 'a': 0, 's': 0, 'w': 0, 'o': 1, 'd': 0}\n",
      "{'c': 0, 'l': 0, 'i': 1, 'n': 1, 't': 0, 'e': 0, 'a': 0, 's': 0, 'w': 0, 'o': 1, 'd': 0}\n",
      "{'c': 0, 'l': 0, 'i': 0, 'n': 1, 't': 0, 'e': 0, 'a': 0, 's': 0, 'w': 0, 'o': 1, 'd': 0}\n",
      "{'c': 0, 'l': 0, 'i': 0, 'n': 1, 't': 0, 'e': 0, 'a': 0, 's': 0, 'w': 0, 'o': 0, 'd': 0}\n",
      "{'c': 0, 'l': 0, 'i': 0, 'n': 0, 't': 0, 'e': 0, 'a': 0, 's': 0, 'w': 0, 'o': 0, 'd': 0}\n"
     ]
    },
    {
     "data": {
      "text/plain": [
       "True"
      ]
     },
     "execution_count": 31,
     "metadata": {},
     "output_type": "execute_result"
    }
   ],
   "source": [
    "anagram('clint eastwood', 'old west action')"
   ]
  }
 ],
 "metadata": {
  "kernelspec": {
   "display_name": "Python 3",
   "language": "python",
   "name": "python3"
  },
  "language_info": {
   "codemirror_mode": {
    "name": "ipython",
    "version": 3
   },
   "file_extension": ".py",
   "mimetype": "text/x-python",
   "name": "python",
   "nbconvert_exporter": "python",
   "pygments_lexer": "ipython3",
   "version": "3.7.7"
  }
 },
 "nbformat": 4,
 "nbformat_minor": 4
}
