{
 "cells": [
  {
   "cell_type": "code",
   "execution_count": 10,
   "metadata": {},
   "outputs": [],
   "source": [
    "def balance_check(s):\n",
    "    \n",
    "    ##works only if no letters or spaces\n",
    "    ##\n",
    "    if len(s)%2 != 0:\n",
    "        return False\n",
    "    \n",
    "    chars = []\n",
    "    matches = { ']' : '[', ')' : '(', '}' : '{' }\n",
    "    for char in s:\n",
    "        if char in matches:\n",
    "            if chars.pop() != matches[char]:\n",
    "                return False\n",
    "        else:\n",
    "            chars.append(char)\n",
    "    return chars == []\n",
    "            "
   ]
  },
  {
   "cell_type": "code",
   "execution_count": 9,
   "metadata": {},
   "outputs": [
    {
     "data": {
      "text/plain": [
       "True"
      ]
     },
     "execution_count": 9,
     "metadata": {},
     "output_type": "execute_result"
    }
   ],
   "source": [
    "balance_check('[]')"
   ]
  },
  {
   "cell_type": "code",
   "execution_count": 11,
   "metadata": {},
   "outputs": [],
   "source": [
    "def balance_check2(s):\n",
    "    \n",
    "    ##works only if no letters or spaces\n",
    "    ##\n",
    "    if len(s)%2 != 0:\n",
    "        return False\n",
    "    \n",
    "    opening = set('{[(')\n",
    "    matches = set([  ('(', ')'), ('{','}'), ('[',']')  ])\n",
    "    \n",
    "    ##python list can act as stack\n",
    "    ##\n",
    "    stack = []\n",
    "    \n",
    "    ##scan string from left to right\n",
    "    ##\n",
    "    for paren in s:\n",
    "        \n",
    "        ##push open parenthesis to stack\n",
    "        ##\n",
    "        ##sets up to check that last opening parenthesis closes\n",
    "        ##\n",
    "        if paren in opening:\n",
    "            stack.append(paren)\n",
    "              \n",
    "        else:\n",
    "            \n",
    "            ##if not an opening and no openings in stack\n",
    "            ## return false\n",
    "            ##\n",
    "            if len(stack) == 0:\n",
    "                return False\n",
    "            \n",
    "            ##last in first out\n",
    "            ##\n",
    "            last_open = stack.pop()\n",
    "            \n",
    "            ##use tuples of matches to compare\n",
    "            ##\n",
    "            if (last_open,paren) not in matches:\n",
    "                return False\n",
    "            \n",
    "    ##returns true if parenthesis are balanced\n",
    "    ##\n",
    "    return len(stack) == 0\n",
    "            \n",
    "            \n",
    "            "
   ]
  },
  {
   "cell_type": "code",
   "execution_count": 13,
   "metadata": {},
   "outputs": [
    {
     "data": {
      "text/plain": [
       "False"
      ]
     },
     "execution_count": 13,
     "metadata": {},
     "output_type": "execute_result"
    }
   ],
   "source": [
    "balance_check2('[(])')"
   ]
  }
 ],
 "metadata": {
  "kernelspec": {
   "display_name": "Python 3",
   "language": "python",
   "name": "python3"
  },
  "language_info": {
   "codemirror_mode": {
    "name": "ipython",
    "version": 3
   },
   "file_extension": ".py",
   "mimetype": "text/x-python",
   "name": "python",
   "nbconvert_exporter": "python",
   "pygments_lexer": "ipython3",
   "version": "3.7.7"
  }
 },
 "nbformat": 4,
 "nbformat_minor": 4
}
