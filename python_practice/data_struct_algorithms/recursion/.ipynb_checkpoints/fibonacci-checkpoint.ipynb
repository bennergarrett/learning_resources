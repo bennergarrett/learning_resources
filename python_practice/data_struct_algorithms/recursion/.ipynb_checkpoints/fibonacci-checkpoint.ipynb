{
 "cells": [
  {
   "cell_type": "code",
   "execution_count": 13,
   "metadata": {},
   "outputs": [],
   "source": [
    "def fib_rec(n):\n",
    "    ##base case\n",
    "    ##\n",
    "    if n == 0 or n == 1:\n",
    "        return n\n",
    "        \n",
    "    ##recursive case\n",
    "    ##\n",
    "    else:\n",
    "        return fib_rec(n-1) + fib_rec(n-2)\n"
   ]
  },
  {
   "cell_type": "code",
   "execution_count": 14,
   "metadata": {},
   "outputs": [
    {
     "data": {
      "text/plain": [
       "55"
      ]
     },
     "execution_count": 14,
     "metadata": {},
     "output_type": "execute_result"
    }
   ],
   "source": [
    "fib_rec(10)"
   ]
  },
  {
   "cell_type": "code",
   "execution_count": 18,
   "metadata": {},
   "outputs": [],
   "source": [
    "# Instantiate Cache information\n",
    "n = 10\n",
    "cache = [None] * (n + 1)\n",
    "\n",
    "\n",
    "def fib_dyn(n):\n",
    "    \n",
    "    ##base case\n",
    "    ##\n",
    "    if n ==0 or n == 1:\n",
    "        return 1\n",
    "    \n",
    "    ##check cache\n",
    "    ##\n",
    "    if cache[n] != None:\n",
    "        return cache[n]\n",
    "    \n",
    "    ##set cache\n",
    "    ##\n",
    "    cache[n] = fib_dyn(n-1) + fib_dyn(n-2)\n",
    "    \n",
    "    ##return cache nth number\n",
    "    ##\n",
    "    return cache[n]"
   ]
  },
  {
   "cell_type": "code",
   "execution_count": 19,
   "metadata": {},
   "outputs": [
    {
     "data": {
      "text/plain": [
       "89"
      ]
     },
     "execution_count": 19,
     "metadata": {},
     "output_type": "execute_result"
    }
   ],
   "source": [
    "fib_dyn(10)"
   ]
  },
  {
   "cell_type": "code",
   "execution_count": null,
   "metadata": {},
   "outputs": [],
   "source": []
  },
  {
   "cell_type": "code",
   "execution_count": 11,
   "metadata": {},
   "outputs": [],
   "source": [
    "def fib_iter(n):\n",
    "    ##tuple packing\n",
    "    ##\n",
    "    a,b = 0,1\n",
    "\n",
    "\n",
    "    for i in range(n):\n",
    "        ##tuple unpacking (very pythonic)\n",
    "        ##\n",
    "        ## b = a+b\n",
    "        ## a = b\n",
    "        ## \n",
    "        print(a, b)\n",
    "        a,b = b, a+b\n",
    "    \n",
    "    return a"
   ]
  },
  {
   "cell_type": "code",
   "execution_count": 12,
   "metadata": {},
   "outputs": [
    {
     "name": "stdout",
     "output_type": "stream",
     "text": [
      "0 1\n",
      "1 1\n",
      "1 2\n",
      "2 3\n",
      "3 5\n"
     ]
    },
    {
     "data": {
      "text/plain": [
       "5"
      ]
     },
     "execution_count": 12,
     "metadata": {},
     "output_type": "execute_result"
    }
   ],
   "source": [
    "fib_iter(5)"
   ]
  }
 ],
 "metadata": {
  "kernelspec": {
   "display_name": "Python 3",
   "language": "python",
   "name": "python3"
  },
  "language_info": {
   "codemirror_mode": {
    "name": "ipython",
    "version": 3
   },
   "file_extension": ".py",
   "mimetype": "text/x-python",
   "name": "python",
   "nbconvert_exporter": "python",
   "pygments_lexer": "ipython3",
   "version": "3.7.7"
  }
 },
 "nbformat": 4,
 "nbformat_minor": 4
}
