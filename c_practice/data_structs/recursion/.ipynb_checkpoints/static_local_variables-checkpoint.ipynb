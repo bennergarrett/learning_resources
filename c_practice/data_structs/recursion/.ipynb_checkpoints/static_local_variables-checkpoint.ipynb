{
 "cells": [
  {
   "cell_type": "code",
   "execution_count": 3,
   "metadata": {},
   "outputs": [
    {
     "name": "stderr",
     "output_type": "stream",
     "text": [
      "/var/folders/v3/z_h_vrmx47z0sk62q2gs094m0000gn/T/tmp6ivfd857.c:12:1: warning: control may reach end of non-void function [-Wreturn-type]\n",
      "}\n",
      "^\n",
      "1 warning generated.\n"
     ]
    },
    {
     "name": "stdout",
     "output_type": "stream",
     "text": [
      "15"
     ]
    }
   ],
   "source": [
    "#include <stdio.h>\n",
    "\n",
    "int fun(int n)\n",
    "{\n",
    "    if(n>0)\n",
    "    {\n",
    "        return fun(n-1) + n;\n",
    "    }    \n",
    "}\n",
    "\n",
    "int main() \n",
    "{\n",
    "    int r;\n",
    "    r=fun(5);\n",
    "    printf(\"%d\", r);\n",
    "    return 0;\n",
    "    \n",
    "}"
   ]
  }
 ],
 "metadata": {
  "kernelspec": {
   "display_name": "C",
   "language": "c",
   "name": "c"
  },
  "language_info": {
   "file_extension": ".c",
   "mimetype": "text/plain",
   "name": "c"
  }
 },
 "nbformat": 4,
 "nbformat_minor": 4
}
