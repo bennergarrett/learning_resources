{
 "cells": [
  {
   "cell_type": "code",
   "execution_count": 15,
   "metadata": {},
   "outputs": [],
   "source": [
    "#include <stdio.h>\n",
    "void fun1(int n)\n",
    "{\n",
    "    if(n>0){\n",
    "    \n",
    "        printf(\"%d\\n\", n);\n",
    "\n",
    "        fun1(n-1);\n",
    "        //printf(\"%d\\n\", n);      \n",
    "    }     \n",
    "}\n",
    "\n",
    "int main()\n",
    "{\n",
    "    int x = 3;\n",
    "    fun1(x);        \n",
    "}"
   ]
  },
  {
   "cell_type": "code",
   "execution_count": null,
   "metadata": {},
   "outputs": [],
   "source": []
  }
 ],
 "metadata": {
  "kernelspec": {
   "display_name": "C",
   "language": "c",
   "name": "c"
  },
  "language_info": {
   "file_extension": ".c",
   "mimetype": "text/plain",
   "name": "c"
  }
 },
 "nbformat": 4,
 "nbformat_minor": 4
}
